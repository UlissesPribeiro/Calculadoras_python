{
 "cells": [
  {
   "cell_type": "markdown",
   "id": "5e8502c9",
   "metadata": {},
   "source": [
    "# Comandos Básicos Mais Usados"
   ]
  },
  {
   "cell_type": "code",
   "execution_count": null,
   "id": "a7a1675b",
   "metadata": {},
   "outputs": [],
   "source": [
    "# M inserindo hashtag é possível inseir titulo\n",
    "# B cria uma nova linha de código\n",
    "# D, D apaga uma linha de código\n",
    "# L coloca e tira linhas\n",
    "# control enter executa o código"
   ]
  },
  {
   "cell_type": "markdown",
   "id": "393dfd49",
   "metadata": {},
   "source": [
    "# Primeiros Exemplos"
   ]
  },
  {
   "cell_type": "code",
   "execution_count": null,
   "id": "d33e36e9",
   "metadata": {},
   "outputs": [],
   "source": [
    "print('primeiro programa')\n",
    "1 + 3\n",
    "5 + 5\n",
    "\n",
    "print(3 + 2)\n",
    "print(5 + 5)\n",
    "\n",
    "help(print)"
   ]
  },
  {
   "cell_type": "code",
   "execution_count": null,
   "id": "8e2330cf",
   "metadata": {},
   "outputs": [],
   "source": [
    "1 + 6 + 6\n",
    "1 + 1"
   ]
  },
  {
   "cell_type": "code",
   "execution_count": null,
   "id": "1371626e",
   "metadata": {},
   "outputs": [],
   "source": [
    "print(1 + 6 + 6)\n",
    "print(1 + 1)"
   ]
  },
  {
   "cell_type": "markdown",
   "id": "a139fb3e",
   "metadata": {},
   "source": [
    "# Tipos Básicos"
   ]
  },
  {
   "cell_type": "code",
   "execution_count": null,
   "id": "1581c36d",
   "metadata": {},
   "outputs": [],
   "source": [
    "print(True)\n",
    "\n",
    "print(False)\n",
    "\n",
    "print(1.5 + 2) #float + int (float = número real quebrado, int = número inteiro)\n",
    "\n",
    "print('Michel Temer 2022') #o termo entre as aspas é chamado de string\n",
    "\n",
    "print(\"Com aspas duplas também é caracterizado um string\")\n",
    "\n",
    "print('Você é ' + 3 * 'muito ' + 'legal') #importante atentar-se aos espaços\n",
    "\n",
    "#print(3 + '3') -> não funciona pois resulta em uma ambiguidade (mistura string com int)\n",
    "\n",
    "print([1, 2, 3, 4]) #lista\n",
    "\n",
    "print({'Nome' : 'Pedro', 'Idade' : 22})\n",
    "\n",
    "print(None) #ausência de valor -> equivalente ao nulo"
   ]
  },
  {
   "cell_type": "markdown",
   "id": "8b0c968c",
   "metadata": {},
   "source": [
    "# Variáveis"
   ]
  },
  {
   "cell_type": "code",
   "execution_count": null,
   "id": "277eac62",
   "metadata": {},
   "outputs": [],
   "source": [
    "a = 10 #o símbolo de igual está, na programação, atrelado à atribuição ao invés de igualdade\n",
    "       #o 'a' recebe o nome de identificador\n",
    "b = 5.2\n",
    "\n",
    "print(a + b)\n",
    "\n",
    "a = 'Agora sou uma string'\n",
    "\n",
    "print(a)\n",
    "b\n",
    "\n",
    "#print(a + b) -> novamento o erro pois o algoritmo não sabe se você está fazendo uma soma ou uma concatenação\n"
   ]
  },
  {
   "cell_type": "markdown",
   "id": "acba775b",
   "metadata": {},
   "source": [
    "# Comentários"
   ]
  },
  {
   "cell_type": "code",
   "execution_count": null,
   "id": "2627a317",
   "metadata": {},
   "outputs": [],
   "source": [
    "#Minhas variáveis\n",
    "salario = 3570.45\n",
    "despesas = 2420.2\n",
    "\n",
    "\"\"\"\n",
    "A ideia é calcular o quanto vai sobrar no final do mês!\n",
    "\"\"\"\n",
    "\n",
    "print(salario - despesas)\n",
    "\n",
    "# print('Fim!')\n",
    "print('Fim de verdade') # comentários após o comando também são válidos"
   ]
  },
  {
   "cell_type": "markdown",
   "id": "633504e3",
   "metadata": {},
   "source": [
    "# Operadores Aritméticos"
   ]
  },
  {
   "cell_type": "code",
   "execution_count": null,
   "id": "6baa005a",
   "metadata": {},
   "outputs": [],
   "source": [
    "print(2 + 3)\n",
    "print(4 - 7)\n",
    "print(2 * 5.3)\n",
    "print(9.4 / 3)\n",
    "\n",
    "# Para exibir apenas o resultado inteiro da operação usa-se duas barras\n",
    "print(9.4 // 3)\n",
    "\n",
    "# Exponenciaão\n",
    "print(2 ** 8)\n",
    "\n",
    "# Resto de uma divisão\n",
    "print(10 % 3)\n",
    "\n",
    "a = 12\n",
    "b = a\n",
    "print(a + b, a * b, a / b)"
   ]
  },
  {
   "cell_type": "markdown",
   "id": "b7e1d46c",
   "metadata": {},
   "source": [
    "# Desafio Operadores Aritméticos"
   ]
  },
  {
   "cell_type": "code",
   "execution_count": null,
   "id": "fd09c1c4",
   "metadata": {},
   "outputs": [],
   "source": [
    "#Minhas variáveis\n",
    "salario = 3570.45\n",
    "despesas = 2420.2\n",
    "\n",
    "percentual = despesas / salario\n",
    "\n",
    "print(\"A porcentagem de gastos em relação ao salário total é de:\", percentual * 100, \"%\")"
   ]
  },
  {
   "cell_type": "markdown",
   "id": "47da930d",
   "metadata": {},
   "source": [
    "# Operadores Relacionais"
   ]
  },
  {
   "cell_type": "code",
   "execution_count": null,
   "id": "7e0e26fd",
   "metadata": {},
   "outputs": [],
   "source": [
    "print(3 > 4)\n",
    "print(4 >= 3)\n",
    "print(1 < 2)\n",
    "print(3 <= 1)\n",
    "\n",
    "# O símbolo \"!=\" representa diferente de\n",
    "print(3 != 2)\n",
    "\n",
    "# Operação de igualdade \"==\", operação de atribuição \"=\"\n",
    "print(3 == 3)\n",
    "\n",
    "print(2 == '2')"
   ]
  },
  {
   "cell_type": "markdown",
   "id": "8182c6e7",
   "metadata": {},
   "source": [
    "# Operadores de Atribuição"
   ]
  },
  {
   "cell_type": "code",
   "execution_count": null,
   "id": "a9765c09",
   "metadata": {},
   "outputs": [],
   "source": [
    "a = 3\n",
    "a = a + 7\n",
    "print(a)\n",
    "\n",
    "# Acréscimo de um int na variável atribuída\n",
    "# Mesma operação de a = a + 5\n",
    "a += 5\n",
    "\n",
    "print(a)\n",
    "\n",
    "a -= 3\n",
    "print(a)\n",
    "\n",
    "a *= 2\n",
    "print(a)\n",
    "\n",
    "a /= 2\n",
    "print(a)\n",
    "\n",
    "a %= 5\n",
    "print(a)\n",
    "\n",
    "a **= 3\n",
    "print(a)\n",
    "\n",
    "a //= 3\n",
    "print(a)"
   ]
  },
  {
   "cell_type": "markdown",
   "id": "e21eba64",
   "metadata": {},
   "source": [
    "# Operadores Lógicos"
   ]
  },
  {
   "cell_type": "code",
   "execution_count": null,
   "id": "74816d98",
   "metadata": {},
   "outputs": [],
   "source": [
    "\n",
    "\"And\"\n",
    "# Funciona apenas quando os dois termos são verdadeiros\n",
    "\n",
    "2 >= 1 and 7 < 10\n",
    "\n",
    "\"Or\"\n",
    "# Funciona sempre que algum dos dois termos é verdadeiro\n",
    "\n",
    "2 < 5 or 4 > 0\n",
    "\n",
    "\"Exclusive Or\"\n",
    "# Precisa ser exclusivamente um ou o outro, não os dois falsos ou verdade\n",
    "\n",
    "2 > 1 or 10 < 0\n",
    "\n",
    "\"Operador de Negação (unário)\"\n",
    "# Usado para representar o sentido contrário daquilo que está se considerando\n",
    "\n",
    "not True #falso\n",
    "not False #verdadeiro"
   ]
  },
  {
   "cell_type": "markdown",
   "id": "d8e08073",
   "metadata": {},
   "source": [
    "# Desafio Operadores Lógicos"
   ]
  },
  {
   "cell_type": "code",
   "execution_count": 10,
   "id": "601b8841",
   "metadata": {},
   "outputs": [
    {
     "name": "stdout",
     "output_type": "stream",
     "text": [
      "Uma TV de 32 polegadas e sorvete\n",
      "Ficarão em casa\n"
     ]
    }
   ],
   "source": [
    "# Uma pessoa terá dois trabalhos para serem feitos. Um na terça e um na quinta feira, do qual o trabalho poderá ser verdadeiro\n",
    "# se tiver sido realizado e falso caso ele não tenha sido realizado\n",
    "# Se os dois trabalhos derem certo houve a promessa de ir ao shopping comprar uma tv de 50 polegadas\n",
    "# Se apenas um dos dois der certo, a pessoa também irá ao shopping porém comprar uma tv de 32 polegadas\n",
    "# Independente de ser os dois ou apenas um trabalho dando certo, a família irá ao shopping tomar sorvete\n",
    "# Caso nenhum dos dois trabalhos dê certo, nem o sorvete a família irá tomar\n",
    "\n",
    "\"\"\"\n",
    "Dois trabalhos deram certo: TV de 50' e sorvete\n",
    "Um dos dois trabalhos deu certo: TV de 32' e sorvete\n",
    "Nenhum dos dois trabalhos deu certo: ficarão em casa\n",
    "\"\"\"\n",
    "\n",
    "# Forma como eu resolvi\n",
    "trabalho_terça = True \n",
    "trabalho_quinta = False\n",
    "\n",
    "if trabalho_terça or trabalho_quinta == True:\n",
    "    print(\"Uma TV de 32 polegadas e sorvete\")\n",
    "    \n",
    "if trabalho_terça and trabalho_quinta == True:\n",
    "    print(\"Uma TV de 50 polegadas e sorvete\")\n",
    "else:\n",
    "    print(\"Ficarão em casa\")\n",
    "        \n",
    "# Gabarito do professor\n",
    "\n",
    "tv_50 = trabalho_terça and trabalho_quinta\n",
    "tv_32 = trabalho_terça or trabalho_quinta\n",
    "sorvete = trabalho_terça != trabalho_quinta\n",
    "mais_saudavel = not sorvete\n"
   ]
  },
  {
   "cell_type": "markdown",
   "id": "e2755c46",
   "metadata": {},
   "source": [
    "# Coração"
   ]
  },
  {
   "cell_type": "code",
   "execution_count": 3,
   "id": "2ced0f74",
   "metadata": {},
   "outputs": [
    {
     "ename": "Terminator",
     "evalue": "",
     "output_type": "error",
     "traceback": [
      "\u001b[1;31m---------------------------------------------------------------------------\u001b[0m",
      "\u001b[1;31mTerminator\u001b[0m                                Traceback (most recent call last)",
      "Input \u001b[1;32mIn [3]\u001b[0m, in \u001b[0;36m<cell line: 29>\u001b[1;34m()\u001b[0m\n\u001b[0;32m     25\u001b[0m   pen\u001b[38;5;241m.\u001b[39mcolor(\u001b[38;5;124m'\u001b[39m\u001b[38;5;124mlightgreen\u001b[39m\u001b[38;5;124m'\u001b[39m)\n\u001b[0;32m     26\u001b[0m   pen\u001b[38;5;241m.\u001b[39mwrite(\u001b[38;5;124m\"\u001b[39m\u001b[38;5;124mEU TE AMO\u001b[39m\u001b[38;5;124m\"\u001b[39m, font\u001b[38;5;241m=\u001b[39m(\n\u001b[0;32m     27\u001b[0m   \u001b[38;5;124m\"\u001b[39m\u001b[38;5;124mVerdana\u001b[39m\u001b[38;5;124m\"\u001b[39m, \u001b[38;5;241m15\u001b[39m, \u001b[38;5;124m\"\u001b[39m\u001b[38;5;124mbold\u001b[39m\u001b[38;5;124m\"\u001b[39m))\n\u001b[1;32m---> 29\u001b[0m \u001b[43mheart\u001b[49m\u001b[43m(\u001b[49m\u001b[43m)\u001b[49m\n\u001b[0;32m     30\u001b[0m txt()\n\u001b[0;32m     31\u001b[0m pen\u001b[38;5;241m.\u001b[39mht()\n",
      "Input \u001b[1;32mIn [3]\u001b[0m, in \u001b[0;36mheart\u001b[1;34m()\u001b[0m\n\u001b[0;32m     13\u001b[0m pen\u001b[38;5;241m.\u001b[39mleft(\u001b[38;5;241m140\u001b[39m)\n\u001b[0;32m     14\u001b[0m pen\u001b[38;5;241m.\u001b[39mforward(\u001b[38;5;241m113\u001b[39m)\n\u001b[1;32m---> 15\u001b[0m \u001b[43mcurve\u001b[49m\u001b[43m(\u001b[49m\u001b[43m)\u001b[49m\n\u001b[0;32m     16\u001b[0m pen\u001b[38;5;241m.\u001b[39mleft(\u001b[38;5;241m120\u001b[39m)\n\u001b[0;32m     17\u001b[0m curve()\n",
      "Input \u001b[1;32mIn [3]\u001b[0m, in \u001b[0;36mcurve\u001b[1;34m()\u001b[0m\n\u001b[0;32m      5\u001b[0m \u001b[38;5;28;01mdef\u001b[39;00m \u001b[38;5;21mcurve\u001b[39m():\n\u001b[0;32m      6\u001b[0m   \u001b[38;5;28;01mfor\u001b[39;00m i \u001b[38;5;129;01min\u001b[39;00m \u001b[38;5;28mrange\u001b[39m(\u001b[38;5;241m200\u001b[39m):\n\u001b[1;32m----> 7\u001b[0m     \u001b[43mpen\u001b[49m\u001b[38;5;241;43m.\u001b[39;49m\u001b[43mright\u001b[49m\u001b[43m(\u001b[49m\u001b[38;5;241;43m1\u001b[39;49m\u001b[43m)\u001b[49m\n\u001b[0;32m      8\u001b[0m     pen\u001b[38;5;241m.\u001b[39mforward(\u001b[38;5;241m1\u001b[39m)\n",
      "File \u001b[1;32m~\\anaconda3\\lib\\turtle.py:1679\u001b[0m, in \u001b[0;36mTNavigator.right\u001b[1;34m(self, angle)\u001b[0m\n\u001b[0;32m   1660\u001b[0m \u001b[38;5;28;01mdef\u001b[39;00m \u001b[38;5;21mright\u001b[39m(\u001b[38;5;28mself\u001b[39m, angle):\n\u001b[0;32m   1661\u001b[0m     \u001b[38;5;124;03m\"\"\"Turn turtle right by angle units.\u001b[39;00m\n\u001b[0;32m   1662\u001b[0m \n\u001b[0;32m   1663\u001b[0m \u001b[38;5;124;03m    Aliases: right | rt\u001b[39;00m\n\u001b[1;32m   (...)\u001b[0m\n\u001b[0;32m   1677\u001b[0m \u001b[38;5;124;03m    337.0\u001b[39;00m\n\u001b[0;32m   1678\u001b[0m \u001b[38;5;124;03m    \"\"\"\u001b[39;00m\n\u001b[1;32m-> 1679\u001b[0m     \u001b[38;5;28;43mself\u001b[39;49m\u001b[38;5;241;43m.\u001b[39;49m\u001b[43m_rotate\u001b[49m\u001b[43m(\u001b[49m\u001b[38;5;241;43m-\u001b[39;49m\u001b[43mangle\u001b[49m\u001b[43m)\u001b[49m\n",
      "File \u001b[1;32m~\\anaconda3\\lib\\turtle.py:3278\u001b[0m, in \u001b[0;36mRawTurtle._rotate\u001b[1;34m(self, angle)\u001b[0m\n\u001b[0;32m   3276\u001b[0m     \u001b[38;5;28;01mfor\u001b[39;00m _ \u001b[38;5;129;01min\u001b[39;00m \u001b[38;5;28mrange\u001b[39m(steps):\n\u001b[0;32m   3277\u001b[0m         \u001b[38;5;28mself\u001b[39m\u001b[38;5;241m.\u001b[39m_orient \u001b[38;5;241m=\u001b[39m \u001b[38;5;28mself\u001b[39m\u001b[38;5;241m.\u001b[39m_orient\u001b[38;5;241m.\u001b[39mrotate(delta)\n\u001b[1;32m-> 3278\u001b[0m         \u001b[38;5;28;43mself\u001b[39;49m\u001b[38;5;241;43m.\u001b[39;49m\u001b[43m_update\u001b[49m\u001b[43m(\u001b[49m\u001b[43m)\u001b[49m\n\u001b[0;32m   3279\u001b[0m \u001b[38;5;28mself\u001b[39m\u001b[38;5;241m.\u001b[39m_orient \u001b[38;5;241m=\u001b[39m neworient\n\u001b[0;32m   3280\u001b[0m \u001b[38;5;28mself\u001b[39m\u001b[38;5;241m.\u001b[39m_update()\n",
      "File \u001b[1;32m~\\anaconda3\\lib\\turtle.py:2661\u001b[0m, in \u001b[0;36mRawTurtle._update\u001b[1;34m(self)\u001b[0m\n\u001b[0;32m   2659\u001b[0m     \u001b[38;5;28;01mreturn\u001b[39;00m\n\u001b[0;32m   2660\u001b[0m \u001b[38;5;28;01melif\u001b[39;00m screen\u001b[38;5;241m.\u001b[39m_tracing \u001b[38;5;241m==\u001b[39m \u001b[38;5;241m1\u001b[39m:\n\u001b[1;32m-> 2661\u001b[0m     \u001b[38;5;28;43mself\u001b[39;49m\u001b[38;5;241;43m.\u001b[39;49m\u001b[43m_update_data\u001b[49m\u001b[43m(\u001b[49m\u001b[43m)\u001b[49m\n\u001b[0;32m   2662\u001b[0m     \u001b[38;5;28mself\u001b[39m\u001b[38;5;241m.\u001b[39m_drawturtle()\n\u001b[0;32m   2663\u001b[0m     screen\u001b[38;5;241m.\u001b[39m_update()                  \u001b[38;5;66;03m# TurtleScreenBase\u001b[39;00m\n",
      "File \u001b[1;32m~\\anaconda3\\lib\\turtle.py:2647\u001b[0m, in \u001b[0;36mRawTurtle._update_data\u001b[1;34m(self)\u001b[0m\n\u001b[0;32m   2646\u001b[0m \u001b[38;5;28;01mdef\u001b[39;00m \u001b[38;5;21m_update_data\u001b[39m(\u001b[38;5;28mself\u001b[39m):\n\u001b[1;32m-> 2647\u001b[0m     \u001b[38;5;28;43mself\u001b[39;49m\u001b[38;5;241;43m.\u001b[39;49m\u001b[43mscreen\u001b[49m\u001b[38;5;241;43m.\u001b[39;49m\u001b[43m_incrementudc\u001b[49m\u001b[43m(\u001b[49m\u001b[43m)\u001b[49m\n\u001b[0;32m   2648\u001b[0m     \u001b[38;5;28;01mif\u001b[39;00m \u001b[38;5;28mself\u001b[39m\u001b[38;5;241m.\u001b[39mscreen\u001b[38;5;241m.\u001b[39m_updatecounter \u001b[38;5;241m!=\u001b[39m \u001b[38;5;241m0\u001b[39m:\n\u001b[0;32m   2649\u001b[0m         \u001b[38;5;28;01mreturn\u001b[39;00m\n",
      "File \u001b[1;32m~\\anaconda3\\lib\\turtle.py:1293\u001b[0m, in \u001b[0;36mTurtleScreen._incrementudc\u001b[1;34m(self)\u001b[0m\n\u001b[0;32m   1291\u001b[0m \u001b[38;5;28;01mif\u001b[39;00m \u001b[38;5;129;01mnot\u001b[39;00m TurtleScreen\u001b[38;5;241m.\u001b[39m_RUNNING:\n\u001b[0;32m   1292\u001b[0m     TurtleScreen\u001b[38;5;241m.\u001b[39m_RUNNING \u001b[38;5;241m=\u001b[39m \u001b[38;5;28;01mTrue\u001b[39;00m\n\u001b[1;32m-> 1293\u001b[0m     \u001b[38;5;28;01mraise\u001b[39;00m Terminator\n\u001b[0;32m   1294\u001b[0m \u001b[38;5;28;01mif\u001b[39;00m \u001b[38;5;28mself\u001b[39m\u001b[38;5;241m.\u001b[39m_tracing \u001b[38;5;241m>\u001b[39m \u001b[38;5;241m0\u001b[39m:\n\u001b[0;32m   1295\u001b[0m     \u001b[38;5;28mself\u001b[39m\u001b[38;5;241m.\u001b[39m_updatecounter \u001b[38;5;241m+\u001b[39m\u001b[38;5;241m=\u001b[39m \u001b[38;5;241m1\u001b[39m\n",
      "\u001b[1;31mTerminator\u001b[0m: "
     ]
    }
   ],
   "source": [
    "import turtle\n",
    "\n",
    "pen = turtle.Turtle()\n",
    "\n",
    "def curve():\n",
    "  for i in range(200):\n",
    "    pen.right(1)\n",
    "    pen.forward(1)\n",
    "\n",
    "def heart():\n",
    "  pen.fillcolor('red')\n",
    "  pen.begin_fill()\n",
    "  pen.left(140)\n",
    "  pen.forward(113)\n",
    "  curve()\n",
    "  pen.left(120)\n",
    "  curve()\n",
    "  pen.forward(112)\n",
    "  pen.end_fill()\n",
    "  \n",
    "def txt():\n",
    "  pen.up()\n",
    "  pen.setpos(-68, 95)\n",
    "  pen.down()\n",
    "  pen.color('lightgreen')\n",
    "  pen.write(\"EU TE AMO\", font=(\n",
    "  \"Verdana\", 15, \"bold\"))\n",
    "\n",
    "heart()\n",
    "txt()\n",
    "pen.ht()\n",
    "turtle\n",
    "turtle.exitonclick()\n",
    "\n",
    "print()\n"
   ]
  }
 ],
 "metadata": {
  "kernelspec": {
   "display_name": "Python 3 (ipykernel)",
   "language": "python",
   "name": "python3"
  },
  "language_info": {
   "codemirror_mode": {
    "name": "ipython",
    "version": 3
   },
   "file_extension": ".py",
   "mimetype": "text/x-python",
   "name": "python",
   "nbconvert_exporter": "python",
   "pygments_lexer": "ipython3",
   "version": "3.9.12"
  }
 },
 "nbformat": 4,
 "nbformat_minor": 5
}
