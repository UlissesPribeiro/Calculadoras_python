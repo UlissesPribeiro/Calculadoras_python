{
 "cells": [
  {
   "cell_type": "markdown",
   "id": "5e8502c9",
   "metadata": {},
   "source": [
    "# Comandos Básicos Mais Usados"
   ]
  },
  {
   "cell_type": "code",
   "execution_count": null,
   "id": "a7a1675b",
   "metadata": {},
   "outputs": [],
   "source": [
    "# M inserindo hashtag é possível inseir titulo\n",
    "# B cria uma nova linha de código\n",
    "# D, D apaga uma linha de código\n",
    "# L coloca e tira linhas\n",
    "# control enter executa o código"
   ]
  },
  {
   "cell_type": "markdown",
   "id": "393dfd49",
   "metadata": {},
   "source": [
    "# Primeiros Exemplos"
   ]
  },
  {
   "cell_type": "code",
   "execution_count": null,
   "id": "d33e36e9",
   "metadata": {},
   "outputs": [],
   "source": [
    "print('primeiro programa')\n",
    "1 + 3\n",
    "5 + 5\n",
    "\n",
    "print(3 + 2)\n",
    "print(5 + 5)\n",
    "\n",
    "help(print)"
   ]
  },
  {
   "cell_type": "code",
   "execution_count": null,
   "id": "8e2330cf",
   "metadata": {},
   "outputs": [],
   "source": [
    "1 + 6 + 6\n",
    "1 + 1"
   ]
  },
  {
   "cell_type": "code",
   "execution_count": null,
   "id": "1371626e",
   "metadata": {},
   "outputs": [],
   "source": [
    "print(1 + 6 + 6)\n",
    "print(1 + 1)"
   ]
  },
  {
   "cell_type": "markdown",
   "id": "a139fb3e",
   "metadata": {},
   "source": [
    "# Tipos Básicos"
   ]
  },
  {
   "cell_type": "code",
   "execution_count": null,
   "id": "1581c36d",
   "metadata": {},
   "outputs": [],
   "source": [
    "print(True)\n",
    "\n",
    "print(False)\n",
    "\n",
    "print(1.5 + 2) #float + int (float = número real quebrado, int = número inteiro)\n",
    "\n",
    "print('Michel Temer 2022') #o termo entre as aspas é chamado de string\n",
    "\n",
    "print(\"Com aspas duplas também é caracterizado um string\")\n",
    "\n",
    "print('Você é ' + 3 * 'muito ' + 'legal') #importante atentar-se aos espaços\n",
    "\n",
    "#print(3 + '3') -> não funciona pois resulta em uma ambiguidade (mistura string com int)\n",
    "\n",
    "print([1, 2, 3, 4]) #lista\n",
    "\n",
    "print({'Nome' : 'Pedro', 'Idade' : 22})\n",
    "\n",
    "print(None) #ausência de valor -> equivalente ao nulo"
   ]
  },
  {
   "cell_type": "markdown",
   "id": "8b0c968c",
   "metadata": {},
   "source": [
    "# Variáveis"
   ]
  },
  {
   "cell_type": "code",
   "execution_count": null,
   "id": "277eac62",
   "metadata": {},
   "outputs": [],
   "source": [
    "a = 10 #o símbolo de igual está, na programação, atrelado à atribuição ao invés de igualdade\n",
    "       #o 'a' recebe o nome de identificador\n",
    "b = 5.2\n",
    "\n",
    "print(a + b)\n",
    "\n",
    "a = 'Agora sou uma string'\n",
    "\n",
    "print(a)\n",
    "b\n",
    "\n",
    "#print(a + b) -> novamento o erro pois o algoritmo não sabe se você está fazendo uma soma ou uma concatenação\n"
   ]
  },
  {
   "cell_type": "markdown",
   "id": "acba775b",
   "metadata": {},
   "source": [
    "# Comentários"
   ]
  },
  {
   "cell_type": "code",
   "execution_count": null,
   "id": "2627a317",
   "metadata": {},
   "outputs": [],
   "source": [
    "#Minhas variáveis\n",
    "salario = 3570.45\n",
    "despesas = 2420.2\n",
    "\n",
    "\"\"\"\n",
    "A ideia é calcular o quanto vai sobrar no final do mês!\n",
    "\"\"\"\n",
    "\n",
    "print(salario - despesas)\n",
    "\n",
    "# print('Fim!')\n",
    "print('Fim de verdade') # comentários após o comando também são válidos"
   ]
  },
  {
   "cell_type": "markdown",
   "id": "633504e3",
   "metadata": {},
   "source": [
    "# Operadores Aritméticos"
   ]
  },
  {
   "cell_type": "code",
   "execution_count": null,
   "id": "6baa005a",
   "metadata": {},
   "outputs": [],
   "source": [
    "print(2 + 3)\n",
    "print(4 - 7)\n",
    "print(2 * 5.3)\n",
    "print(9.4 / 3)\n",
    "\n",
    "# Para exibir apenas o resultado inteiro da operação usa-se duas barras\n",
    "print(9.4 // 3)\n",
    "\n",
    "# Exponenciaão\n",
    "print(2 ** 8)\n",
    "\n",
    "# Resto de uma divisão\n",
    "print(10 % 3)\n",
    "\n",
    "a = 12\n",
    "b = a\n",
    "print(a + b, a * b, a / b)"
   ]
  },
  {
   "cell_type": "markdown",
   "id": "b7e1d46c",
   "metadata": {},
   "source": [
    "# Desafio Operadores Aritméticos"
   ]
  },
  {
   "cell_type": "code",
   "execution_count": null,
   "id": "fd09c1c4",
   "metadata": {},
   "outputs": [],
   "source": [
    "#Minhas variáveis\n",
    "salario = 3570.45\n",
    "despesas = 2420.2\n",
    "\n",
    "percentual = despesas / salario\n",
    "\n",
    "print(\"A porcentagem de gastos em relação ao salário total é de:\", percentual * 100, \"%\")"
   ]
  },
  {
   "cell_type": "markdown",
   "id": "47da930d",
   "metadata": {},
   "source": [
    "# Operadores Relacionais"
   ]
  },
  {
   "cell_type": "code",
   "execution_count": null,
   "id": "7e0e26fd",
   "metadata": {},
   "outputs": [],
   "source": [
    "print(3 > 4)\n",
    "print(4 >= 3)\n",
    "print(1 < 2)\n",
    "print(3 <= 1)\n",
    "\n",
    "# O símbolo \"!=\" representa diferente de\n",
    "print(3 != 2)\n",
    "\n",
    "# Operação de igualdade \"==\", operação de atribuição \"=\"\n",
    "print(3 == 3)\n",
    "\n",
    "print(2 == '2')"
   ]
  },
  {
   "cell_type": "markdown",
   "id": "8182c6e7",
   "metadata": {},
   "source": [
    "# Operadores de Atribuição"
   ]
  },
  {
   "cell_type": "code",
   "execution_count": null,
   "id": "a9765c09",
   "metadata": {},
   "outputs": [],
   "source": [
    "a = 3\n",
    "a = a + 7\n",
    "print(a)\n",
    "\n",
    "# Acréscimo de um int na variável atribuída\n",
    "# Mesma operação de a = a + 5\n",
    "a += 5\n",
    "\n",
    "print(a)\n",
    "\n",
    "a -= 3\n",
    "print(a)\n",
    "\n",
    "a *= 2\n",
    "print(a)\n",
    "\n",
    "a /= 2\n",
    "print(a)\n",
    "\n",
    "a %= 5\n",
    "print(a)\n",
    "\n",
    "a **= 3\n",
    "print(a)\n",
    "\n",
    "a //= 3\n",
    "print(a)"
   ]
  },
  {
   "cell_type": "markdown",
   "id": "e21eba64",
   "metadata": {},
   "source": [
    "# Operadores Lógicos"
   ]
  },
  {
   "cell_type": "code",
   "execution_count": null,
   "id": "74816d98",
   "metadata": {},
   "outputs": [],
   "source": [
    "\n",
    "\"And\"\n",
    "# Funciona apenas quando os dois termos são verdadeiros\n",
    "\n",
    "2 >= 1 and 7 < 10\n",
    "\n",
    "\"Or\"\n",
    "# Funciona sempre que algum dos dois termos é verdadeiro\n",
    "\n",
    "2 < 5 or 4 > 0\n",
    "\n",
    "\"Exclusive Or\"\n",
    "# Precisa ser exclusivamente um ou o outro, não os dois falsos ou verdade\n",
    "\n",
    "2 > 1 or 10 < 0\n",
    "\n",
    "\"Operador de Negação (unário)\"\n",
    "# Usado para representar o sentido contrário daquilo que está se considerando\n",
    "\n",
    "not True #falso\n",
    "not False #verdadeiro"
   ]
  },
  {
   "cell_type": "markdown",
   "id": "d8e08073",
   "metadata": {},
   "source": [
    "# Desafio Operadores Lógicos"
   ]
  },
  {
   "cell_type": "code",
   "execution_count": 10,
   "id": "601b8841",
   "metadata": {},
   "outputs": [
    {
     "name": "stdout",
     "output_type": "stream",
     "text": [
      "Uma TV de 32 polegadas e sorvete\n",
      "Ficarão em casa\n"
     ]
    }
   ],
   "source": [
    "# Uma pessoa terá dois trabalhos para serem feitos. Um na terça e um na quinta feira, do qual o trabalho poderá ser verdadeiro\n",
    "# se tiver sido realizado e falso caso ele não tenha sido realizado\n",
    "# Se os dois trabalhos derem certo houve a promessa de ir ao shopping comprar uma tv de 50 polegadas\n",
    "# Se apenas um dos dois der certo, a pessoa também irá ao shopping porém comprar uma tv de 32 polegadas\n",
    "# Independente de ser os dois ou apenas um trabalho dando certo, a família irá ao shopping tomar sorvete\n",
    "# Caso nenhum dos dois trabalhos dê certo, nem o sorvete a família irá tomar\n",
    "\n",
    "\"\"\"\n",
    "Dois trabalhos deram certo: TV de 50' e sorvete\n",
    "Um dos dois trabalhos deu certo: TV de 32' e sorvete\n",
    "Nenhum dos dois trabalhos deu certo: ficarão em casa\n",
    "\"\"\"\n",
    "\n",
    "# Forma como eu resolvi\n",
    "trabalho_terça = True \n",
    "trabalho_quinta = False\n",
    "\n",
    "if trabalho_terça or trabalho_quinta == True:\n",
    "    print(\"Uma TV de 32 polegadas e sorvete\")\n",
    "    \n",
    "if trabalho_terça and trabalho_quinta == True:\n",
    "    print(\"Uma TV de 50 polegadas e sorvete\")\n",
    "else:\n",
    "    print(\"Ficarão em casa\")\n",
    "        \n",
    "# Gabarito do professor\n",
    "\n",
    "tv_50 = trabalho_terça and trabalho_quinta\n",
    "tv_32 = trabalho_terça or trabalho_quinta\n",
    "sorvete = trabalho_terça != trabalho_quinta\n",
    "mais_saudavel = not sorvete\n"
   ]
  }
 ],
 "metadata": {
  "kernelspec": {
   "display_name": "Python 3 (ipykernel)",
   "language": "python",
   "name": "python3"
  },
  "language_info": {
   "codemirror_mode": {
    "name": "ipython",
    "version": 3
   },
   "file_extension": ".py",
   "mimetype": "text/x-python",
   "name": "python",
   "nbconvert_exporter": "python",
   "pygments_lexer": "ipython3",
   "version": "3.9.12"
  }
 },
 "nbformat": 4,
 "nbformat_minor": 5
}
