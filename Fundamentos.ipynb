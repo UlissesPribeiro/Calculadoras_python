{
 "cells": [
  {
   "cell_type": "markdown",
   "id": "5e8502c9",
   "metadata": {},
   "source": [
    "# Comandos Básicos Mais Usados"
   ]
  },
  {
   "cell_type": "code",
   "execution_count": null,
   "id": "a7a1675b",
   "metadata": {},
   "outputs": [],
   "source": [
    "# M inserindo hashtag é possível inseir titulo\n",
    "# B cria uma nova linha de código\n",
    "# D, D apaga uma linha de código\n",
    "# L coloca e tira linhas\n",
    "# control enter executa o código"
   ]
  },
  {
   "cell_type": "markdown",
   "id": "393dfd49",
   "metadata": {},
   "source": [
    "# Primeiros Exemplos"
   ]
  },
  {
   "cell_type": "code",
   "execution_count": null,
   "id": "d33e36e9",
   "metadata": {},
   "outputs": [],
   "source": [
    "print('primeiro programa')\n",
    "1 + 3\n",
    "5 + 5\n",
    "\n",
    "print(3 + 2)\n",
    "print(5 + 5)\n",
    "\n",
    "help(print)"
   ]
  },
  {
   "cell_type": "code",
   "execution_count": null,
   "id": "8e2330cf",
   "metadata": {},
   "outputs": [],
   "source": [
    "1 + 6 + 6\n",
    "1 + 1"
   ]
  },
  {
   "cell_type": "code",
   "execution_count": null,
   "id": "1371626e",
   "metadata": {},
   "outputs": [],
   "source": [
    "print(1 + 6 + 6)\n",
    "print(1 + 1)"
   ]
  },
  {
   "cell_type": "markdown",
   "id": "a139fb3e",
   "metadata": {},
   "source": [
    "# Tipos Básicos"
   ]
  },
  {
   "cell_type": "code",
   "execution_count": null,
   "id": "1581c36d",
   "metadata": {},
   "outputs": [],
   "source": [
    "print(True)\n",
    "\n",
    "print(False)\n",
    "\n",
    "print(1.5 + 2) #float + int (float = número real quebrado, int = número inteiro)\n",
    "\n",
    "print('Michel Temer 2022') #o termo entre as aspas é chamado de string\n",
    "\n",
    "print(\"Com aspas duplas também é caracterizado um string\")\n",
    "\n",
    "print('Você é ' + 3 * 'muito ' + 'legal') #importante atentar-se aos espaços\n",
    "\n",
    "#print(3 + '3') -> não funciona pois resulta em uma ambiguidade (mistura string com int)\n",
    "\n",
    "print([1, 2, 3, 4]) #lista\n",
    "\n",
    "print({'Nome' : 'Pedro', 'Idade' : 22})\n",
    "\n",
    "print(None) #ausência de valor -> equivalente ao nulo"
   ]
  },
  {
   "cell_type": "markdown",
   "id": "8b0c968c",
   "metadata": {},
   "source": [
    "# Variáveis"
   ]
  },
  {
   "cell_type": "code",
   "execution_count": null,
   "id": "277eac62",
   "metadata": {},
   "outputs": [],
   "source": [
    "a = 10 #o símbolo de igual está, na programação, atrelado à atribuição ao invés de igualdade\n",
    "       #o 'a' recebe o nome de identificador\n",
    "b = 5.2\n",
    "\n",
    "print(a + b)\n",
    "\n",
    "a = 'Agora sou uma string'\n",
    "\n",
    "print(a)\n",
    "b\n",
    "\n",
    "#print(a + b) -> novamento o erro pois o algoritmo não sabe se você está fazendo uma soma ou uma concatenação\n"
   ]
  },
  {
   "cell_type": "markdown",
   "id": "acba775b",
   "metadata": {},
   "source": [
    "# Comentários"
   ]
  },
  {
   "cell_type": "code",
   "execution_count": null,
   "id": "2627a317",
   "metadata": {},
   "outputs": [],
   "source": [
    "#Minhas variáveis\n",
    "salario = 3570.45\n",
    "despesas = 2420.2\n",
    "\n",
    "\"\"\"\n",
    "A ideia é calcular o quanto vai sobrar no final do mês!\n",
    "\"\"\"\n",
    "\n",
    "print(salario - despesas)\n",
    "\n",
    "# print('Fim!')\n",
    "print('Fim de verdade') # comentários após o comando também são válidos"
   ]
  },
  {
   "cell_type": "markdown",
   "id": "633504e3",
   "metadata": {},
   "source": [
    "# Operadores Aritméticos"
   ]
  },
  {
   "cell_type": "code",
   "execution_count": null,
   "id": "6baa005a",
   "metadata": {},
   "outputs": [],
   "source": [
    "print(2 + 3)\n",
    "print(4 - 7)\n",
    "print(2 * 5.3)\n",
    "print(9.4 / 3)\n",
    "\n",
    "# Para exibir apenas o resultado inteiro da operação usa-se duas barras\n",
    "print(9.4 // 3)\n",
    "\n",
    "# Exponenciaão\n",
    "print(2 ** 8)\n",
    "\n",
    "# Resto de uma divisão\n",
    "print(10 % 3)\n",
    "\n",
    "a = 12\n",
    "b = a\n",
    "print(a + b, a * b, a / b)"
   ]
  },
  {
   "cell_type": "markdown",
   "id": "b7e1d46c",
   "metadata": {},
   "source": [
    "# Desafio Operadores Aritméticos"
   ]
  },
  {
   "cell_type": "code",
   "execution_count": null,
   "id": "fd09c1c4",
   "metadata": {},
   "outputs": [],
   "source": [
    "#Minhas variáveis\n",
    "salario = 3570.45\n",
    "despesas = 2420.2\n",
    "\n",
    "percentual = despesas / salario\n",
    "\n",
    "print(\"A porcentagem de gastos em relação ao salário total é de:\", percentual * 100, \"%\")"
   ]
  },
  {
   "cell_type": "markdown",
   "id": "47da930d",
   "metadata": {},
   "source": [
    "# Operadores Relacionais"
   ]
  },
  {
   "cell_type": "code",
   "execution_count": null,
   "id": "7e0e26fd",
   "metadata": {},
   "outputs": [],
   "source": [
    "print(3 > 4)\n",
    "print(4 >= 3)\n",
    "print(1 < 2)\n",
    "print(3 <= 1)\n",
    "\n",
    "# O símbolo \"!=\" representa diferente de\n",
    "print(3 != 2)\n",
    "\n",
    "# Operação de igualdade \"==\", operação de atribuição \"=\"\n",
    "print(3 == 3)\n",
    "\n",
    "print(2 == '2')"
   ]
  },
  {
   "cell_type": "markdown",
   "id": "8182c6e7",
   "metadata": {},
   "source": [
    "# Operadores de Atribuição"
   ]
  },
  {
   "cell_type": "code",
   "execution_count": null,
   "id": "a9765c09",
   "metadata": {},
   "outputs": [],
   "source": [
    "a = 3\n",
    "a = a + 7\n",
    "print(a)\n",
    "\n",
    "# Acréscimo de um int na variável atribuída\n",
    "# Mesma operação de a = a + 5\n",
    "a += 5\n",
    "\n",
    "print(a)\n",
    "\n",
    "a -= 3\n",
    "print(a)\n",
    "\n",
    "a *= 2\n",
    "print(a)\n",
    "\n",
    "a /= 2\n",
    "print(a)\n",
    "\n",
    "a %= 5\n",
    "print(a)\n",
    "\n",
    "a **= 3\n",
    "print(a)\n",
    "\n",
    "a //= 3\n",
    "print(a)"
   ]
  },
  {
   "cell_type": "markdown",
   "id": "e21eba64",
   "metadata": {},
   "source": [
    "# Operadores Lógicos"
   ]
  },
  {
   "cell_type": "code",
   "execution_count": null,
   "id": "74816d98",
   "metadata": {},
   "outputs": [],
   "source": [
    "\n",
    "\"And\"\n",
    "# Funciona apenas quando os dois termos são verdadeiros\n",
    "\n",
    "2 >= 1 and 7 < 10\n",
    "\n",
    "\"Or\"\n",
    "# Funciona sempre que algum dos dois termos é verdadeiro\n",
    "\n",
    "2 < 5 or 4 > 0\n",
    "\n",
    "\"Exclusive Or\"\n",
    "# Precisa ser exclusivamente um ou o outro, não os dois falsos ou verdade\n",
    "\n",
    "2 > 1 or 10 < 0\n",
    "\n",
    "\"Operador de Negação (unário)\"\n",
    "# Usado para representar o sentido contrário daquilo que está se considerando\n",
    "\n",
    "not True #falso\n",
    "not False #verdadeiro"
   ]
  },
  {
   "cell_type": "markdown",
   "id": "d8e08073",
   "metadata": {},
   "source": [
    "# Desafio Operadores Lógicos"
   ]
  },
  {
   "cell_type": "code",
   "execution_count": null,
   "id": "601b8841",
   "metadata": {},
   "outputs": [],
   "source": [
    "# Uma pessoa terá dois trabalhos para serem feitos. Um na terça e um na quinta feira, do qual o trabalho poderá ser verdadeiro\n",
    "# se tiver sido realizado e falso caso ele não tenha sido realizado\n",
    "# Se os dois trabalhos derem certo houve a promessa de ir ao shopping comprar uma tv de 50 polegadas\n",
    "# Se apenas um dos dois der certo, a pessoa também irá ao shopping porém comprar uma tv de 32 polegadas\n",
    "# Independente de ser os dois ou apenas um trabalho dando certo, a família irá ao shopping tomar sorvete\n",
    "# Caso nenhum dos dois trabalhos dê certo, nem o sorvete a família irá tomar\n",
    "\n",
    "\"\"\"\n",
    "Dois trabalhos deram certo: TV de 50' e sorvete\n",
    "Um dos dois trabalhos deu certo: TV de 32' e sorvete\n",
    "Nenhum dos dois trabalhos deu certo: ficarão em casa\n",
    "\"\"\"\n",
    "\n",
    "# Forma como eu resolvi\n",
    "trabalho_terça = True \n",
    "trabalho_quinta = False\n",
    "        \n",
    "# Gabarito do professor\n",
    "\n",
    "tv_50 = trabalho_terça and trabalho_quinta\n",
    "tv_32 = trabalho_terça or trabalho_quinta\n",
    "sorvete = trabalho_terça != trabalho_quinta\n",
    "mais_saudavel = not sorvete\n",
    "\n",
    "print(\"tv de 50:\", tv_50, \"tv de 32:\", tv_32, \"sorvete:\", sorvete, \"saudável:\", mais_saudavel)"
   ]
  },
  {
   "cell_type": "markdown",
   "id": "e2755c46",
   "metadata": {},
   "source": [
    "# Coração"
   ]
  },
  {
   "cell_type": "code",
   "execution_count": null,
   "id": "2ced0f74",
   "metadata": {},
   "outputs": [],
   "source": [
    "import turtle\n",
    "\n",
    "pen = turtle.Turtle()\n",
    "\n",
    "def curve():\n",
    "  for i in range(200):\n",
    "    pen.right(1)\n",
    "    pen.forward(1)\n",
    "\n",
    "def heart():\n",
    "  pen.fillcolor('red')\n",
    "  pen.begin_fill()\n",
    "  pen.left(140)\n",
    "  pen.forward(113)\n",
    "  curve()\n",
    "  pen.left(120)\n",
    "  curve()\n",
    "  pen.forward(112)\n",
    "  pen.end_fill()\n",
    "  \n",
    "def txt():\n",
    "  pen.up()\n",
    "  pen.setpos(-68, 95)\n",
    "  pen.down()\n",
    "  pen.color('lightgreen')\n",
    "  pen.write(\"EU TE AMO\", font=(\n",
    "  \"Verdana\", 15, \"bold\"))\n",
    "\n",
    "heart()\n",
    "txt()\n",
    "pen.ht()\n",
    "turtle\n",
    "turtle.exitonclick()\n",
    "\n",
    "print()\n"
   ]
  },
  {
   "cell_type": "markdown",
   "id": "a99fd7d7",
   "metadata": {},
   "source": [
    "# Operadores Unários"
   ]
  },
  {
   "cell_type": "code",
   "execution_count": null,
   "id": "948128e5",
   "metadata": {},
   "outputs": [],
   "source": [
    "a = 3\n",
    "# a++ não é entendpivel em python\n",
    "# o correto serial a += 1\n",
    "# a-- também não é entendível\n",
    "# o correto seria a -= 1\n",
    "\n",
    "not 0 # com 0 sendo o operador de falso - fverdadeiro\n",
    "not 1 # com 1 sendo o operador de verdadeiro - falso\n",
    "not False\n",
    "not not True # não causa uma alteração na variável"
   ]
  },
  {
   "cell_type": "markdown",
   "id": "9ca1eb83",
   "metadata": {},
   "source": [
    "# Operadores Ternários"
   ]
  },
  {
   "cell_type": "code",
   "execution_count": null,
   "id": "b0f1c2f1",
   "metadata": {},
   "outputs": [],
   "source": [
    "# A expressão abaixo sendo verdadeira, o valor a ser exibido será o mais\n",
    "# próximo do termo \"esta chovendo\"\n",
    "\n",
    "esta_chovendo = False\n",
    "\"Hoje estou com as roupas \" + (\"secas\", \"molhadas\")[esta_chovendo]\n",
    "\n",
    "esta_chovendo = True\n",
    "resultado1 = \"Hoje estou com as roupas \" + (\"secas\", \"molhadas\")[esta_chovendo]\n",
    "\n",
    "estou_cansado = False\n",
    "\"Hoje depois do trabalho estou muito \" + (\"cansado\", \"feliz\")[estou_cansado]\n",
    "\n",
    "# A expressão fica mais perto da expressão verdadeira\n",
    "print(resultado1)\n",
    "\n",
    "teste_com_if = \"Hoje estou com as roupas \" + (\"molhadas\" if esta_chovendo else \"secas\")\n",
    "\n",
    "print(teste_com_if)"
   ]
  },
  {
   "cell_type": "markdown",
   "id": "15595d86",
   "metadata": {},
   "source": [
    "# Mais Operadores"
   ]
  },
  {
   "cell_type": "code",
   "execution_count": null,
   "id": "d74c7eb9",
   "metadata": {
    "scrolled": true
   },
   "outputs": [],
   "source": [
    "# Membro / Identidade\n",
    "\n",
    "# Operador de membro - usando IN ou NOT IN\n",
    "lista = [1, 2, 3, 'Ana', 'Lucia']\n",
    "print(2 in lista)\n",
    "print(3 not in lista)\n",
    "\n",
    "# Operador de identidade - usando IS ou IS NOT\n",
    "x = 3\n",
    "y = x\n",
    "z = 3\n",
    "print(x is y, z is y, x is not z)\n",
    "\n",
    "lista_a = [1, 2, 3]\n",
    "lista_b = lista_a\n",
    "lista_c = [1, 2, 3]\n",
    "\n",
    "print(lista_a is lista_b)\n",
    "print(lista_b is lista_c)\n",
    "print(lista_a is lista_c) # Embora tenham o mesmo conteúdo, são duas listas diferentes\n",
    "# Quando se trata de listas, elas serão diferentes mesmo que seu conteúdo seja o mesmo"
   ]
  },
  {
   "cell_type": "markdown",
   "id": "2dd56223",
   "metadata": {},
   "source": [
    "# Builtins"
   ]
  },
  {
   "cell_type": "code",
   "execution_count": 6,
   "id": "9c09a259",
   "metadata": {},
   "outputs": [
    {
     "name": "stdout",
     "output_type": "stream",
     "text": [
      "3.3333333333333335\n"
     ]
    },
    {
     "data": {
      "text/plain": [
       "13"
      ]
     },
     "execution_count": 6,
     "metadata": {},
     "output_type": "execute_result"
    }
   ],
   "source": [
    "type(1)\n",
    "__builtins__.type('oi') # Define se o termo é int, str, float...\n",
    "__builtins__.print(10/3)\n",
    "\n",
    "# __builtins__.help(__builtins__.dir)\n",
    "# O underline no builtins armazena o último valor impresso no código\n",
    "# dir() - mostra td oq foi armazenado na biblioteca do código\n",
    "\n",
    "dir()\n",
    "dir(__builtins__) # vai mostrar tudo o que está dentro do builtins\n",
    "# O builtins já é importado por padrão\n",
    "\n",
    "nome = 'João da Silva'\n",
    "type(nome)\n",
    "__builtins__.len(nome)"
   ]
  },
  {
   "cell_type": "markdown",
   "id": "c998e4f5",
   "metadata": {},
   "source": [
    "# Conversão de Tipos"
   ]
  },
  {
   "cell_type": "code",
   "execution_count": 15,
   "id": "efc6be81",
   "metadata": {},
   "outputs": [
    {
     "name": "stdout",
     "output_type": "stream",
     "text": [
      "<class 'int'>\n",
      "<class 'str'>\n",
      "5\n",
      "23\n"
     ]
    },
    {
     "data": {
      "text/plain": [
       "str"
      ]
     },
     "execution_count": 15,
     "metadata": {},
     "output_type": "execute_result"
    }
   ],
   "source": [
    "2 + 3\n",
    "'2' + '3' # Concatenação\n",
    "# 2 + '3' # Configura um erro um int com uma str\n",
    "\n",
    "a = 2\n",
    "b = '3'\n",
    "print(type(a))\n",
    "print(type(b))\n",
    "\n",
    "# Transformar o b que é uma str em um int\n",
    "print(a + int(b))\n",
    "# Transformar o a que é um int em um str para fazer uma concatenação\n",
    "print(str(a) + b)\n",
    "\n",
    "type(str(a))\n",
    "\n",
    "# Obviamente dentro de uma str ou int deve ter um termo válido para a conversão"
   ]
  },
  {
   "cell_type": "markdown",
   "id": "8879fb20",
   "metadata": {},
   "source": [
    "# Converção Automática"
   ]
  },
  {
   "cell_type": "code",
   "execution_count": 24,
   "id": "5f04aa80",
   "metadata": {},
   "outputs": [
    {
     "data": {
      "text/plain": [
       "float"
      ]
     },
     "execution_count": 24,
     "metadata": {},
     "output_type": "execute_result"
    }
   ],
   "source": [
    "10 / 2\n",
    "type(10 / 2)\n",
    "# Mesmo a operação acima sendo de dois int, gerando um outro int, ele é caracterizado como float(número decimal)\n",
    "type(10 / 3)\n",
    "10 // 3\n",
    "type(10 // 3)\n",
    "2 + True\n",
    "2 + False\n",
    "type(1 + 2)\n",
    "type(1 + 2.5)"
   ]
  },
  {
   "cell_type": "markdown",
   "id": "be69b4a0",
   "metadata": {},
   "source": [
    "# Tipos Numéricos"
   ]
  },
  {
   "cell_type": "code",
   "execution_count": 39,
   "id": "4b158c0a",
   "metadata": {},
   "outputs": [
    {
     "data": {
      "text/plain": [
       "int"
      ]
     },
     "execution_count": 39,
     "metadata": {},
     "output_type": "execute_result"
    }
   ],
   "source": [
    "dir(int)\n",
    "dir(float)\n",
    "\n",
    "a = 5\n",
    "b = 2.5\n",
    "a / b\n",
    "a + b\n",
    "a * b\n",
    "\n",
    "type(a)\n",
    "type(b)\n",
    "type(a - b)\n",
    "\n",
    "# Saber se b é um inteiro\n",
    "b.is_integer()\n",
    "5.0.is_integer()\n",
    "\n",
    "# Fazer uma soma sem necessariamente somar explicitamente\n",
    "int.__add__(2, 3)\n",
    "\n",
    "# Função absoluta - trará sempre o valor positivo de um termo - válido para o float tb\n",
    "(-2).__abs__()\n",
    "abs(-2)\n",
    "abs(2)\n",
    "type(-2)"
   ]
  },
  {
   "cell_type": "markdown",
   "id": "9a3233ee",
   "metadata": {},
   "source": [
    "# Erro de Precisão"
   ]
  },
  {
   "cell_type": "code",
   "execution_count": 44,
   "id": "2cfefcce",
   "metadata": {},
   "outputs": [
    {
     "data": {
      "text/plain": [
       "Decimal('3.300')"
      ]
     },
     "execution_count": 44,
     "metadata": {},
     "output_type": "execute_result"
    }
   ],
   "source": [
    "# 1.1 + 2.2 gera um valor de 3.300000000000003\n",
    "# Para evitar esse erro e somar valores precisos\n",
    "\n",
    "from decimal import Decimal, getcontext\n",
    "Decimal(1 / Decimal(7))\n",
    "\n",
    "getcontext().prec = 4 # Define o número de casas decimais apresentadas\n",
    "Decimal(1) / Decimal(7)\n",
    "Decimal.max(Decimal(1), Decimal(7)) # Te mostra o maior valor dos termos apresentados\n",
    "dir(Decimal)\n",
    "\n",
    "1.1 + 2.2\n",
    "Decimal(1.1) + Decimal(2.2)"
   ]
  },
  {
   "cell_type": "markdown",
   "id": "a540cfcf",
   "metadata": {},
   "source": [
    "# Tipo String"
   ]
  },
  {
   "cell_type": "code",
   "execution_count": 52,
   "id": "5274fe5c",
   "metadata": {},
   "outputs": [
    {
     "name": "stdout",
     "output_type": "stream",
     "text": [
      "Marca d'agua\n"
     ]
    },
    {
     "data": {
      "text/plain": [
       "'Texto entre apóstrofes podem ter \"aspas\"'"
      ]
     },
     "execution_count": 52,
     "metadata": {},
     "output_type": "execute_result"
    }
   ],
   "source": [
    "dir(str)\n",
    "nome = 'Saulo Pedro'\n",
    "nome\n",
    "nome[0]\n",
    "\n",
    "# 'Marca d'água'  \n",
    "# Configura um erro de str\n",
    "print(\"Marca d'agua\")\n",
    "\n",
    "texto = 'Texto entre apóstrofes podem ter \"aspas\"'\n",
    "texto\n",
    "\n",
    "# Textos com múltiplas linhas com 3 aspas simples ou duplas\n",
    "\"\"\"\n",
    "linha 1\n",
    "linha 2\n",
    "...\n",
    "\"\"\""
   ]
  },
  {
   "cell_type": "code",
   "execution_count": 10,
   "id": "7cae8013",
   "metadata": {},
   "outputs": [
    {
     "data": {
      "text/plain": [
       "'aluaP anA'"
      ]
     },
     "execution_count": 10,
     "metadata": {},
     "output_type": "execute_result"
    }
   ],
   "source": [
    "nome = 'Ana Paula'\n",
    "nome[0] # exibe o primeiro termo da string\n",
    "nome[6] # exibe o elemento 6, contando com espaços\n",
    "nome[-3] # contando de trás para frente\n",
    "nome[4:] # vai exibir a partir do elemento 4\n",
    "nome[-5:]\n",
    "nome[:3] # saindo do inicio e indo até o elemento número 3 mas o indice final não entra\n",
    "nome[2:5] # seleciona um intervalo da string mas desconsiderando o ultimo indice\n",
    "\n",
    "numeros = '1234567890'\n",
    "numeros\n",
    "numeros[::] # semelhante a exibição normal \n",
    "numeros[::2] # vai percorrer todo o string de dois em dois começando no primeiro\n",
    "numeros[1::2] # começando no indice 1, percorrendo até o final da string percorrendo de dois em dois\n",
    "numeros[::-1] # vai percorrer toda a string de trás pra frente\n",
    "numeros[::-2] \n",
    "\n",
    "nome[::-1]"
   ]
  },
  {
   "cell_type": "code",
   "execution_count": 21,
   "id": "6aadf178",
   "metadata": {},
   "outputs": [
    {
     "data": {
      "text/plain": [
       "'python é uma linguagem excelente'"
      ]
     },
     "execution_count": 21,
     "metadata": {},
     "output_type": "execute_result"
    }
   ],
   "source": [
    "frase = 'python é uma linguagem excelente'\n",
    "'py' in frase # exibirá o valor true\n",
    "'ing' not in frase\n",
    "len(frase) # exibe o numero de termos da string\n",
    "frase.lower() # deixará todos os termos em minusculo sem modificar a frase\n",
    "frase.upper() # deixara os caracteres em maiusculo\n",
    "frase.split() # vai quebrar cada termo da string separadamente\n",
    "\n",
    "frase.split('a') # vai exibir a string sem o valor a\n",
    "\n",
    "dir(str) # mostrara os codigos possiveis para as strings\n",
    "frase"
   ]
  },
  {
   "cell_type": "code",
   "execution_count": 1,
   "id": "7b83d38f",
   "metadata": {},
   "outputs": [
    {
     "name": "stdout",
     "output_type": "stream",
     "text": [
      "123 de Oliveira 4\n"
     ]
    }
   ],
   "source": [
    "a = '123'\n",
    "b = ' de Oliveira 4'\n",
    "a + b\n",
    "\n",
    "# abaixo seguem as mesmas formas de exibir uma soma de str\n",
    "a.__add__(b)\n",
    "str.__add__(a, b)\n",
    "\n",
    "len(a)\n",
    "a.__len__()\n",
    "'1' in a\n",
    "a.__contains__('1')\n",
    "print(a + b)"
   ]
  },
  {
   "cell_type": "markdown",
   "id": "6ca98062",
   "metadata": {},
   "source": [
    "# Lista"
   ]
  },
  {
   "cell_type": "code",
   "execution_count": 43,
   "id": "a0e75b17",
   "metadata": {},
   "outputs": [
    {
     "data": {
      "text/plain": [
       "[1, 5, [4, 5, 6]]"
      ]
     },
     "execution_count": 43,
     "metadata": {},
     "output_type": "execute_result"
    }
   ],
   "source": [
    "lista = []\n",
    "type(lista) # lista é um tipo de formatação de dados semelhante a str, int\n",
    "dir(lista)\n",
    "len(lista)\n",
    "lista.append(1) # o append adiciona o elemento desejado a lista\n",
    "lista.append(5)\n",
    "lista.append([4, 5, 6])\n",
    "lista\n",
    "\n",
    "nova_lista = [1, 5, 'Ana', 'Bia']\n",
    "nova_lista\n",
    "nova_lista.remove(5) # remove o valor desejado da lista permanentemente\n",
    "nova_lista.reverse() # inverte a ordem da lista permanentemente\n",
    "nova_lista"
   ]
  },
  {
   "cell_type": "code",
   "execution_count": 3,
   "id": "6bf3bbfd",
   "metadata": {},
   "outputs": [
    {
     "data": {
      "text/plain": [
       "3.1415"
      ]
     },
     "execution_count": 3,
     "metadata": {},
     "output_type": "execute_result"
    }
   ],
   "source": [
    "lista = [1, 5, 'Rebeca', 'Guilherme', 3.1415]\n",
    "lista.index('Guilherme') # informa qual posição do elemento\n",
    "lista[2] # informa a posição do elemento também\n",
    "1 in lista\n",
    "'Pedro' not in lista\n",
    "lista[0] # indica o primeiro elemento da lista\n",
    "lista[4] # indica o quinto elemento da lista\n",
    "lista[-1] # indica o primeiro elemento de trás para frente"
   ]
  },
  {
   "cell_type": "code",
   "execution_count": 21,
   "id": "8d6f1da5",
   "metadata": {},
   "outputs": [
    {
     "data": {
      "text/plain": [
       "['Ana']"
      ]
     },
     "execution_count": 21,
     "metadata": {},
     "output_type": "execute_result"
    }
   ],
   "source": [
    "lista = ['Ana', 'Lia', 'Rui', 'Paulo', 'Dani']\n",
    "lista[1:3] # isso quer dizer que quero mostrar o índice 1 e o 2, já que o 3 não é considerado \n",
    "lista[1:-1]\n",
    "lista[1:]\n",
    "lista[:-1]\n",
    "lista[:]\n",
    "lista[::2]\n",
    "lista[::3]\n",
    "del lista[2]\n",
    "lista[:]\n",
    "del lista[1:]\n",
    "lista\n",
    "\n",
    "# a lista segue basicamente os mesmos comandos de seleção para strings"
   ]
  },
  {
   "cell_type": "markdown",
   "id": "6bef58a2-5971-4154-bf25-aab5df347a7a",
   "metadata": {},
   "source": [
    "# Tupla"
   ]
  },
  {
   "cell_type": "code",
   "execution_count": 34,
   "id": "9f4ca2e7-b135-44d3-a8be-04ddfc64bc09",
   "metadata": {},
   "outputs": [
    {
     "data": {
      "text/plain": [
       "1"
      ]
     },
     "execution_count": 34,
     "metadata": {},
     "output_type": "execute_result"
    }
   ],
   "source": [
    "tupla = tuple()\n",
    "tupla = ()\n",
    "type(tupla)\n",
    "dir(tupla)\n",
    "# help(tupla)\n",
    "tupla = ('um') # isso é uma string. Para ter uma tupla de um unico elemento, tem que haver virgula\n",
    "type(tupla)\n",
    "tupla = ('um',)\n",
    "type(tupla)\n",
    "tupla[0]\n",
    "# diferente da lista, numa tupla não é possível alterar algum item dentro dela\n",
    "cores = ('verde', 'amarelo', 'azul', 'branco')\n",
    "cores[0]\n",
    "cores[-1]\n",
    "cores[1:]\n",
    "\n",
    "cores.index('amarelo') # mostra qual é a posição desse item na tupla selecionada\n",
    "cores.count('azul') # indica o numero de itens 'azul' na tupla\n",
    "len(cores) # indica o tamanho da tupla"
   ]
  },
  {
   "cell_type": "markdown",
   "id": "2b1b9b46-1b5c-40da-bccf-a2cd4979b9d5",
   "metadata": {},
   "source": [
    "# Dicionário"
   ]
  },
  {
   "cell_type": "code",
   "execution_count": 42,
   "id": "360cbf5e-5961-4d0c-9bd6-2696e95f0201",
   "metadata": {},
   "outputs": [
    {
     "data": {
      "text/plain": [
       "dict_values(['Prof(a). Ana', 38, ['Inglês', 'Português']])"
      ]
     },
     "execution_count": 42,
     "metadata": {},
     "output_type": "execute_result"
    }
   ],
   "source": [
    "pessoa = {'nome': 'Prof(a). Ana', 'idade': 38, 'cursos': ['Inglês', 'Português']}\n",
    "type(pessoa)\n",
    "dir(dict)\n",
    "len(pessoa)\n",
    "pessoa['nome']\n",
    "pessoa['idade'] # vai mostrar apenas o que está após os dois pontos de cada item\n",
    "pessoa.keys() # vai mostrar as chaves desse dicionário, ou seja, as palavras antes dos dois pontos\n",
    "pessoa.values() # vai mostrar apenas o que está após os dois pontos"
   ]
  },
  {
   "cell_type": "code",
   "execution_count": 55,
   "id": "e9629db7-11b9-4307-9115-5ffc6adab52c",
   "metadata": {},
   "outputs": [
    {
     "data": {
      "text/plain": [
       "{}"
      ]
     },
     "execution_count": 55,
     "metadata": {},
     "output_type": "execute_result"
    }
   ],
   "source": [
    "pessoa = {'nome': 'Prof. Alberto', 'idade': 43, 'cursos': ['React', 'Python']}\n",
    "pessoa['idade'] = 44 # altera um value inteiro do dicionário\n",
    "pessoa['cursos'].append('Angular') # adiciona o termo entre parenteses à lista\n",
    "pessoa.pop('idade') # retira o valor mostrado do dicionário\n",
    "pessoa.update({'idade': 40, 'Sexo': 'M'}) # adiciona mais alguma key e value ao dicionário\n",
    "del pessoa['cursos'] # retira um item, semelhante ao pop\n",
    "pessoa.clear() # esvazia completamente o dicionário\n",
    "pessoa"
   ]
  },
  {
   "cell_type": "markdown",
   "id": "85d89b6d-fe92-4e5f-ad7d-4e6ea0199da1",
   "metadata": {},
   "source": [
    "# Conjuntos"
   ]
  },
  {
   "cell_type": "code",
   "execution_count": 69,
   "id": "b4ba9b50-8136-476f-b48a-cfa119ce863c",
   "metadata": {},
   "outputs": [
    {
     "name": "stdout",
     "output_type": "stream",
     "text": [
      "True True\n"
     ]
    },
    {
     "data": {
      "text/plain": [
       "{1, 3}"
      ]
     },
     "execution_count": 69,
     "metadata": {},
     "output_type": "execute_result"
    }
   ],
   "source": [
    "a = {1, 2, 3} # não tem garantia de ordem entre os elementos e não aceita repetição\n",
    "type(a)\n",
    "a = set('cod3r')\n",
    "a\n",
    "print('3' in a, '4' not in a)\n",
    "{1, 2, 3} == {3, 2, 1, 3}\n",
    "\n",
    "# operações para conjuntos\n",
    "\n",
    "# uniao\n",
    "c1 = {1, 2}\n",
    "c2 = {2, 3}\n",
    "c1.union(c2) # une os dois conjuntos gerando um terceiro conjunto\n",
    "\n",
    "# interseção\n",
    "c1.intersection(c2)\n",
    "\n",
    "# uptade - altera um dos conjuntos citados\n",
    "c1.update(c2)\n",
    "c1\n",
    "\n",
    "# verificar se um conjunto é subconjunto do outro\n",
    "c2 <= c1 # se true, c2 é subconjunto de c1\n",
    "c1 >= c2 # c1 é superconjunto de c2\n",
    "\n",
    "# diferença entre os conjuntos\n",
    "c1 - c2\n",
    "{1, 2, 3} - {2}\n",
    "\n",
    "# não existe a soma entre dois conjuntos\n",
    "# para subtrair um item e atribuir esse valor permanente usa-se o igual\n",
    "c1 -= {2}\n",
    "c1"
   ]
  },
  {
   "cell_type": "markdown",
   "id": "37af4729-595e-477a-8d6b-f94bd143617b",
   "metadata": {},
   "source": [
    "# Interpolação"
   ]
  },
  {
   "cell_type": "code",
   "execution_count": 14,
   "id": "7a56d1a8-d7a9-4c0a-9fb9-db13e9c2ffcb",
   "metadata": {},
   "outputs": [
    {
     "name": "stdout",
     "output_type": "stream",
     "text": [
      "Nome: Ana Idade: 30\n",
      "Nome: Ana Idade: 30\n",
      "Nome: Ana Idade: 30\n",
      "Caminhonete: f Modelo: 1000\n"
     ]
    }
   ],
   "source": [
    "from string import Template\n",
    "\n",
    "nome, idade = 'Ana', 30\n",
    "\n",
    "# %s converte elementos do tipo string para ser interpretados pelo leitor de código\n",
    "# %d vai converter valores inteiros\n",
    "# %f vai converter valores de tipo float \n",
    "# para a conversão do float %.2f mostrara o float desejado com apenas duas casas decimais\n",
    "# %r \n",
    "\n",
    "print('Nome: %s Idade: %d' % (nome, idade))\n",
    "# essas opções acima são consideradas mais ultrapassasdas e nem tanto utilizadas\n",
    "\n",
    "print('Nome: {0} Idade: {1}'.format(nome, idade))\n",
    "print(f'Nome: {nome} Idade: {idade}') # o f dentro da string entrega ja uma string formatada\n",
    "\n",
    "caminhonete, modelo = 'f', 1000\n",
    "print(f'Caminhonete: {caminhonete} Modelo: {modelo}')"
   ]
  }
 ],
 "metadata": {
  "kernelspec": {
   "display_name": "Python 3 (ipykernel)",
   "language": "python",
   "name": "python3"
  },
  "language_info": {
   "codemirror_mode": {
    "name": "ipython",
    "version": 3
   },
   "file_extension": ".py",
   "mimetype": "text/x-python",
   "name": "python",
   "nbconvert_exporter": "python",
   "pygments_lexer": "ipython3",
   "version": "3.11.7"
  }
 },
 "nbformat": 4,
 "nbformat_minor": 5
}
