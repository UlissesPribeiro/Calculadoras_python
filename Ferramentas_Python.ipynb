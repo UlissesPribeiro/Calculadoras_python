{
 "cells": [
  {
   "cell_type": "markdown",
   "id": "a019c9ec",
   "metadata": {},
   "source": [
    "# Calculadora de Desvio Padrão da Média"
   ]
  },
  {
   "cell_type": "code",
   "execution_count": 1,
   "id": "70d79fcb",
   "metadata": {},
   "outputs": [
    {
     "name": "stdout",
     "output_type": "stream",
     "text": [
      "Digite um valor ou pressione Enter para encerrar: 23\n",
      "Digite um valor ou pressione Enter para encerrar: 23\n",
      "Digite um valor ou pressione Enter para encerrar: \n",
      "A média dos valores é: 23.0\n",
      "O desvio padrão da média é: 0.0\n"
     ]
    }
   ],
   "source": [
    "import math\n",
    "\n",
    "# função para calcular o desvio padrão da média\n",
    "def calc_desvio_padrao(valores):\n",
    "    n = len(valores)\n",
    "    media = sum(valores) / n\n",
    "    desvio = math.sqrt(sum([(x - media) ** 2 for x in valores]) / (n * (n - 1)))\n",
    "    print(\"A média dos valores é:\", media)\n",
    "    return desvio\n",
    "\n",
    "# pedir ao usuário para inserir os valores\n",
    "valores = []\n",
    "while True:\n",
    "    valor = input(\"Digite um valor ou pressione Enter para encerrar: \")\n",
    "    if valor == \"\":\n",
    "        break\n",
    "    valores.append(float(valor))\n",
    "\n",
    "# calcular o desvio padrão e exibir o resultado\n",
    "desvio_padrao = calc_desvio_padrao(valores)\n",
    "print(\"O desvio padrão da média é:\", desvio_padrao)"
   ]
  },
  {
   "cell_type": "markdown",
   "id": "356c1b6c",
   "metadata": {},
   "source": [
    "# Calculadora de Propagação de Erro para Velocidade"
   ]
  },
  {
   "cell_type": "code",
   "execution_count": 6,
   "id": "cfee932e",
   "metadata": {},
   "outputs": [
    {
     "name": "stdout",
     "output_type": "stream",
     "text": [
      "Digite a distância percorrida: 25.5\n",
      "Digite o tempo gasto: 0.42\n",
      "Digite a incerteza na medição da distância: 0.7\n",
      "Digite a incerteza na medição do tempo: 0.08\n",
      "A velocidade média é: 60.714285714285715\n",
      "A propagação de erros na velocidade média é: 11.684106676855237\n"
     ]
    }
   ],
   "source": [
    "import math\n",
    "\n",
    "# função para calcular a velocidade média e a propagação de erros\n",
    "def calc_velocidade_media(distancia, tempo, inc_distancia, inc_tempo):\n",
    "    velocidade = distancia / tempo\n",
    "    inc_velocidade = math.sqrt((inc_distancia / distancia)**2 + (inc_tempo / tempo)**2) * velocidade\n",
    "    return velocidade, inc_velocidade\n",
    "\n",
    "# pedir ao usuário para inserir os valores\n",
    "distancia = float(input(\"Digite a distância percorrida: \"))\n",
    "tempo = float(input(\"Digite o tempo gasto: \"))\n",
    "inc_distancia = float(input(\"Digite a incerteza na medição da distância: \"))\n",
    "inc_tempo = float(input(\"Digite a incerteza na medição do tempo: \"))\n",
    "\n",
    "# calcular a velocidade média e a propagação de erros\n",
    "velocidade_media, prop_erro_velocidade = calc_velocidade_media(distancia, tempo, inc_distancia, inc_tempo)\n",
    "\n",
    "# exibir os resultados\n",
    "print(\"A velocidade média é:\", velocidade_media)\n",
    "print(\"A propagação de erros na velocidade média é:\", prop_erro_velocidade)"
   ]
  },
  {
   "cell_type": "markdown",
   "id": "6fc9a3b7",
   "metadata": {},
   "source": [
    "# Calculadora de Momento Linear"
   ]
  },
  {
   "cell_type": "code",
   "execution_count": null,
   "id": "d266313f",
   "metadata": {},
   "outputs": [],
   "source": [
    "# função para calcular o momento linear\n",
    "def calc_momento_linear(massa, velocidade):\n",
    "    return massa * velocidade\n",
    "\n",
    "# pedir ao usuário para inserir os valores\n",
    "massa = float(input(\"Digite a massa do objeto: \"))\n",
    "velocidade = float(input(\"Digite a velocidade do objeto: \"))\n",
    "\n",
    "# calcular o momento linear\n",
    "momento_linear = calc_momento_linear(massa, velocidade)\n",
    "\n",
    "# exibir o resultado\n",
    "print(\"O momento linear é:\", momento_linear)"
   ]
  },
  {
   "cell_type": "markdown",
   "id": "fa536397",
   "metadata": {},
   "source": [
    "# Calculadora de Propagação de Erros de Momento Linear"
   ]
  },
  {
   "cell_type": "code",
   "execution_count": 3,
   "id": "38e057af",
   "metadata": {},
   "outputs": [
    {
     "name": "stdout",
     "output_type": "stream",
     "text": [
      "Insira a massa (kg): 0.0738\n",
      "Insira a incerteza da massa (kg): 0.0001\n",
      "Insira a velocidade (m/s): 4186\n",
      "Insira a incerteza da velocidade (m/s): 1\n",
      "O momento linear é: 308.9268 kg*m/s\n",
      "A incerteza do momento linear é: 0.4250557610478889 kg*m/s\n"
     ]
    }
   ],
   "source": [
    "import math\n",
    "\n",
    "# Solicita ao usuário que insira as variáveis e suas incertezas\n",
    "massa = float(input(\"Insira a massa (kg): \"))\n",
    "delta_massa = float(input(\"Insira a incerteza da massa (kg): \"))\n",
    "velocidade = float(input(\"Insira a velocidade (m/s): \"))\n",
    "delta_velocidade = float(input(\"Insira a incerteza da velocidade (m/s): \"))\n",
    "\n",
    "# Cálculo do momento linear\n",
    "momento = massa * velocidade\n",
    "\n",
    "# Cálculo da incerteza do momento linear utilizando a propagação de erros\n",
    "delta_momento = math.sqrt((delta_massa * velocidade)**2 + (massa * delta_velocidade)**2)\n",
    "\n",
    "# Imprimindo o resultado\n",
    "print(\"O momento linear é:\", momento, \"kg*m/s\")\n",
    "print(\"A incerteza do momento linear é:\", delta_momento, \"kg*m/s\")"
   ]
  },
  {
   "cell_type": "markdown",
   "id": "531e4465",
   "metadata": {},
   "source": [
    "# Metodo de Mínimos Quadrados"
   ]
  },
  {
   "cell_type": "code",
   "execution_count": 3,
   "id": "542f38f5",
   "metadata": {},
   "outputs": [
    {
     "name": "stdout",
     "output_type": "stream",
     "text": [
      "Digite o número de pontos de dados: 10\n",
      "Digite o valor de 1/Volume: 0.0028\n",
      "Digite o valor da Pressão: 2.7\n",
      "Digite o valor da barra de erro da Pressão: 0.2\n",
      "Digite o valor de 1/Volume: 0.0028\n",
      "Digite o valor da Pressão: 2.3\n",
      "Digite o valor da barra de erro da Pressão: 0.2\n",
      "Digite o valor de 1/Volume: 0.0029\n",
      "Digite o valor da Pressão: 2.1\n",
      "Digite o valor da barra de erro da Pressão: 0.2\n",
      "Digite o valor de 1/Volume: 0.0029\n",
      "Digite o valor da Pressão: 2\n",
      "Digite o valor da barra de erro da Pressão: 0.2\n",
      "Digite o valor de 1/Volume: 0.0029\n",
      "Digite o valor da Pressão: 1.8\n",
      "Digite o valor da barra de erro da Pressão: 0.2\n",
      "Digite o valor de 1/Volume: 0.0030\n",
      "Digite o valor da Pressão: 1.8\n",
      "Digite o valor da barra de erro da Pressão: 0.2\n",
      "Digite o valor de 1/Volume: 0.0030\n",
      "Digite o valor da Pressão: 1.6\n",
      "Digite o valor da barra de erro da Pressão: 0.2\n",
      "Digite o valor de 1/Volume: 0.0030\n",
      "Digite o valor da Pressão: 1.6\n",
      "Digite o valor da barra de erro da Pressão: 0.2\n",
      "Digite o valor de 1/Volume: 0.0030\n",
      "Digite o valor da Pressão: 1.4\n",
      "Digite o valor da barra de erro da Pressão: 0.2\n",
      "Digite o valor de 1/Volume: 0.0030\n",
      "Digite o valor da Pressão: 1.4\n",
      "Digite o valor da barra de erro da Pressão: 0.2\n",
      "Coeficiente a: -4606.5573770492\n",
      "Incerteza do coeficiente a: 710.8027340550049\n",
      "Coeficiente b: 15.367213114754163\n",
      "Incerteza do coeficiente b: 2.0833917935001907\n"
     ]
    },
    {
     "data": {
      "image/png": "[encoded data removed]",
      "text/plain": [
       "<Figure size 432x288 with 1 Axes>"
      ]
     },
     "metadata": {
      "needs_background": "light"
     },
     "output_type": "display_data"
    }
   ],
   "source": [
    "import numpy as np\n",
    "import matplotlib.pyplot as plt\n",
    "\n",
    "# Função para ajuste linear\n",
    "def linear_fit(x, y):\n",
    "    n = len(x)\n",
    "    A = np.vstack([x, np.ones(n)]).T\n",
    "    a, b = np.linalg.lstsq(A, y, rcond=None)[0]\n",
    "    \n",
    "    # Cálculo da matriz de covariância\n",
    "    residuos = y - (a * x + b)\n",
    "    sigma_quad = np.sum(residuos**2) / (n - 2)\n",
    "    cov = sigma_quad * np.linalg.inv(np.dot(A.T, A))\n",
    "    cov_a_b = cov.diagonal()\n",
    "    \n",
    "    # Cálculo das incertezas\n",
    "    incerteza_a = np.sqrt(cov_a_b[0])\n",
    "    incerteza_b = np.sqrt(cov_a_b[1])\n",
    "    \n",
    "    return a, b, incerteza_a, incerteza_b\n",
    "\n",
    "# Input dos dados de pressão, volume e barras de erro\n",
    "n = int(input(\"Digite o número de pontos de dados: \"))\n",
    "x = np.zeros(n)\n",
    "y = np.zeros(n)\n",
    "erro_y = np.zeros(n)\n",
    "\n",
    "for i in range(n):\n",
    "    x[i] = float(input(\"Digite o valor de 1/Volume: \"))\n",
    "    y[i] = float(input(\"Digite o valor da Pressão: \"))\n",
    "    erro_y[i] = float(input(\"Digite o valor da barra de erro da Pressão: \"))\n",
    "\n",
    "# Realiza o ajuste linear\n",
    "a, b, incerteza_a, incerteza_b = linear_fit(x, y)\n",
    "\n",
    "# Imprime os coeficientes a, b e suas incertezas\n",
    "print(\"Coeficiente a:\", a)\n",
    "print(\"Incerteza do coeficiente a:\", incerteza_a)\n",
    "print(\"Coeficiente b:\", b)\n",
    "print(\"Incerteza do coeficiente b:\", incerteza_b)\n",
    "\n",
    "# Cria um array de valores para plotar a reta de ajuste\n",
    "x_fit = np.linspace(min(x), max(x), 100)\n",
    "y_fit = a * x_fit + b\n",
    "\n",
    "# Plota o gráfico com os pontos de dados, barras de erro e a reta de ajuste\n",
    "plt.errorbar(x, y, yerr=erro_y, fmt='o', color='red', label='Dados')\n",
    "plt.plot(x_fit, y_fit, color='blue', label='Ajuste linear')\n",
    "plt.xlabel('1/Volume')\n",
    "plt.ylabel('Pressão')\n",
    "plt.legend()\n",
    "plt.grid(True)\n",
    "plt.show()\n"
   ]
  }
 ],
 "metadata": {
  "kernelspec": {
   "display_name": "Python 3 (ipykernel)",
   "language": "python",
   "name": "python3"
  },
  "language_info": {
   "codemirror_mode": {
    "name": "ipython",
    "version": 3
   },
   "file_extension": ".py",
   "mimetype": "text/x-python",
   "name": "python",
   "nbconvert_exporter": "python",
   "pygments_lexer": "ipython3",
   "version": "3.9.12"
  }
 },
 "nbformat": 4,
 "nbformat_minor": 5
}
